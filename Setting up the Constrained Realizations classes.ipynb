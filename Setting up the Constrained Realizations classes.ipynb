{
 "cells": [
  {
   "cell_type": "code",
   "execution_count": 1,
   "metadata": {
    "collapsed": true
   },
   "outputs": [],
   "source": [
    "### importing packages\n",
    "%matplotlib inline\n",
    "\n",
    "import numpy as np\n",
    "import matplotlib.pyplot as plt\n",
    "import healpy as hp\n",
    "\n",
    "import os\n",
    "import time"
   ]
  },
  {
   "cell_type": "code",
   "execution_count": 2,
   "metadata": {
    "collapsed": true
   },
   "outputs": [],
   "source": [
    "### setting params\n",
    "\n",
    "# find Dropbox parent directory\n",
    "cwd = os.getcwd().split('/')\n",
    "HOME = cwd[1:cwd.index('Dropbox')]\n",
    "HOME = \"/\"+\"/\".join(HOME)\n",
    "\n",
    "# setting colormap to match Planck's\n",
    "import sys\n",
    "sys.path.append(HOME+'/Dropbox/Doutorado/Research/CODES/My-Own-Python-Tools')\n",
    "import planck_colormap\n",
    "cm = planck_colormap.colormap()"
   ]
  },
  {
   "cell_type": "code",
   "execution_count": 42,
   "metadata": {
    "collapsed": false
   },
   "outputs": [],
   "source": [
    "class ConstrainedRealizations:\n",
    "    def __init__(self,nside,weights_map,lmax_factor=1.5,mask=None):\n",
    "        \"\"\"Constrained Realizations has to be initialized with parameters and the desired\n",
    "        mask.\"\"\"\n",
    "        self.params = Parameters(nside,lmax_factor)\n",
    "        self.weights_map = weights_map\n",
    "        if mask is not None:\n",
    "            self.mask = Mask(mask,nside)\n",
    "        else:\n",
    "            self.mask = Mask(np.ones(self.params.npix))\n",
    "    \n",
    "    # set up methods\n",
    "    def set_noise_cov(self,noise_cov):\n",
    "        \"\"\"Set noise covariance matrix and calculate quantities for messenger loop.\"\"\"\n",
    "        self.check_nside(noise_cov)\n",
    "        self.noise_cov = NoiseCov(noise_cov,self.mask.mask)\n",
    "        try:\n",
    "            self.set_delta()\n",
    "        except:\n",
    "            pass\n",
    "        \n",
    "    def set_signal_cov(self,cl):\n",
    "        \"\"\"Set signal cov from Cls and assignt quantities to .signal_cov atribute\"\"\"\n",
    "        self.signal_cov = SignalCov(cl,self.params.lmax)\n",
    "        try:\n",
    "            self.set_delta()\n",
    "        except:\n",
    "            pass\n",
    "\n",
    "    def set_delta(self):\n",
    "        \"\"\"Set delta to generate random filed. Use gen_delta method to generate delta\"\"\"\n",
    "        self.delta = Delta(self.noise_cov.noise_cov,self.signal_cov.cl_inv,\\\n",
    "                           self.mask.mask, self.params.pix_area)\n",
    "        \n",
    "    def set_cooling_schedule(self,lamb_0,target_precision,eta=3/4):\n",
    "        self.cs = CoolingSchedule(lamb_0,eta)\n",
    "        self.cs.set_precision_schedule(target_precision)\n",
    "        \n",
    "    # cooling methods/functions\n",
    "    def gen_delta(self):\n",
    "        delta = self.delta.gen_delta(self.mask.good_pix,self.mask.bad_pix,self.params.nside,\\\n",
    "                                   self.params.npix)\n",
    "        return delta\n",
    "    \n",
    "    def do_transform(self,delta,tlm,lamb):\n",
    "        \"\"\"Do one iteration of the basis transform for the wiener filter\"\"\"\n",
    "        sl, tau, noise_cov = \\\n",
    "        self.signal_cov.signal_cov, self.noise_cov.tau, self.noise_cov.noise_cov\n",
    "        good_pix, bad_pix = self.mask.good_pix, self.mask.bad_pix\n",
    "        weights_map = self.weights_map\n",
    "        pix_area, lmax, nside = self.params.pix_area, self.params.lmax, self.params.nside\n",
    "        flm,tlm = field_trnsfrm(delta,tlm,lamb,sl,tau,noise_cov,good_pix,bad_pix,weights_map,\\\n",
    "                                pix_area,lmax,nside)\n",
    "        return flm, tlm\n",
    "    \n",
    "    def solve_flm(self,tlm,delta,lamb,target_precision):\n",
    "        \"\"\"Solve for flm for a specific delta, lambda and target precision\"\"\"\n",
    "        flm = np.ones(len(tlm))\n",
    "        while True:\n",
    "            flm_i = np.copy(flm)\n",
    "            flm, tlm = self.do_transform(delta,tlm,lamb)\n",
    "            conv = np.linalg.norm(flm-flm_i,ord=2)/np.linalg.norm(flm_i,ord=2)\n",
    "            if conv < target_precision:\n",
    "                return flm, tlm\n",
    "                \n",
    "    def gen_constrained_realization(self,delta_fix=None):\n",
    "        \"\"\"Generate one fluctation field, which added to a wiener filtered map gives a\n",
    "        constrained realization.\"\"\"\n",
    "        # set up fields\n",
    "        if delta_fix == None:\n",
    "            delta = self.gen_delta()\n",
    "        else:\n",
    "            delta = delta_fix\n",
    "        t = np.copy(delta)\n",
    "        tlm = hp.map2alm(t*self.weights_map,self.params.lmax,iter=0)\n",
    "        # get cooling schedule\n",
    "        lamb_list = self.cs.lamb_list\n",
    "        eps_list = self.cs.eps_list\n",
    "        for i in range(len(lamb_list)):\n",
    "            flm, tlm = self.solve_flm(tlm,delta,lamb_list[i],eps_list[i])\n",
    "        return flm\n",
    "    # helper functions    \n",
    "    def check_nside(self,m):\n",
    "        assert hp.get_nside(m) == self.params.nside, \\\n",
    "        \"Wrong resolution, NSIDE should be {}.\".format(self.params.nside)"
   ]
  },
  {
   "cell_type": "code",
   "execution_count": 43,
   "metadata": {
    "collapsed": true
   },
   "outputs": [],
   "source": [
    "class Parameters:\n",
    "    def __init__(self,nside,lmax_factor):\n",
    "        \"\"\"Set base parameters\"\"\"\n",
    "        self.nside = nside\n",
    "        self.npix = hp.nside2npix(nside)\n",
    "        self.lmax = np.int0(lmax_factor*nside)\n",
    "        self.pix_area = hp.pixelfunc.nside2pixarea(nside)\n",
    "        \n",
    "class Mask:\n",
    "    \"\"\"Instantiate mask, get good_pix and bad_pix and degrade with 0.9 criteria if nside_out\n",
    "is specified.\"\"\"\n",
    "    def __init__(self,mask,nside_out=None):\n",
    "        msk = np.copy(mask)\n",
    "        if nside_out is not None:\n",
    "            msk = hp.ud_grade(msk,nside_out)\n",
    "            msk[msk >= 0.9] = 1\n",
    "            msk[msk < 0.9] = 0\n",
    "        self.good_pix = msk == 1\n",
    "        self.bad_pix = msk == 0\n",
    "        self.mask = msk\n",
    "        \n",
    "class NoiseCov:\n",
    "    \"\"\"Noise covariance from map and mask, assigns tau as an attribute\"\"\"\n",
    "    def __init__(self,noise_cov,mask):\n",
    "        self.tau = np.min(noise_cov[mask==1])\n",
    "        self.t_cov = self.tau*np.ones(hp.get_map_size(noise_cov))\n",
    "        self.noise_cov = noise_cov\n",
    "        \n",
    "class SignalCov:\n",
    "    \"\"\" Set signal Cls and calculate Sl from Cls and lmax \"\"\"\n",
    "    def __init__(self,cl,lmax):\n",
    "        self.cl = cl[:lmax+1]\n",
    "        self.cl_inv = np.zeros(lmax+1)\n",
    "        self.cl_inv[2:] = 1/self.cl[2:]\n",
    "        l_list, m_list = hp.sphtfunc.Alm.getlm(lmax)\n",
    "        self.signal_cov = cl[l_list]\n",
    "        self.signal_cov_inv = np.zeros(len(l_list))\n",
    "        self.signal_cov_inv[l_list > 1] = 1/self.signal_cov[l_list>1]\n",
    "        \n",
    "class CoolingSchedule:\n",
    "    def __init__(self,lamb_0,eta):\n",
    "        self.set_lambda_schedule(lamb_0,eta)\n",
    "    \n",
    "    def set_lambda_schedule(self,lamb_0,eta):\n",
    "        \"\"\"\n",
    "        Get whole lambda list by multiplying lamb_0 by powers of eta.\n",
    "        \"\"\"\n",
    "        self.lamb_0 = lamb_0\n",
    "        self.eta = eta\n",
    "        self.lamb_list = np.array([])\n",
    "        \n",
    "        #constructing list\n",
    "        lamb = lamb_0\n",
    "        while lamb > 1:\n",
    "            self.lamb_list = np.append(self.lamb_list,lamb)\n",
    "            lamb *= eta\n",
    "        self.lamb_list = np.append(self.lamb_list,1)\n",
    "    \n",
    "    def set_precision_schedule(self,target_precision):\n",
    "        \"\"\"\n",
    "        Function to vary target precision as lambda changes.\n",
    "        Split eps in three parts by factors of 10.\n",
    "        \"\"\"\n",
    "        self.tp = target_precision\n",
    "        self.eps_list = 10**(2) * target_precision * np.ones(len(self.lamb_list))\n",
    "        self.eps_list[len(self.lamb_list)//3:] = 10**1 * target_precision\n",
    "        self.eps_list[2*len(self.lamb_list)//3:] =  target_precision\n",
    "        \n",
    "class Delta:\n",
    "    \"\"\"Generate random field delta of which the wiener filter is f.\n",
    "    f is the fluctuation field to be added to the wiener filter of data\n",
    "    to obtain one constrained realization.\"\"\"\n",
    "    def __init__(self,noise_cov,cl_inv,mask,pix_area):\n",
    "        self.sqrt_ncov_inv = 1/np.sqrt(noise_cov[mask==1])\n",
    "        self.cl_g2s = (pix_area**2)*cl_inv\n",
    "    \n",
    "    def gen_delta(self,good_pix,bad_pix,nside,npix):\n",
    "        g1n = self.sqrt_ncov_inv*np.random.normal(size=len(self.sqrt_ncov_inv))\n",
    "        g2s = hp.synfast(self.cl_g2s,nside,len(self.cl_g2s)-1, verbose=False)\n",
    "        delta = np.zeros(npix)\n",
    "        delta[good_pix] = g1n + g2s[good_pix]\n",
    "        delta[bad_pix] = g2s[bad_pix]\n",
    "        return delta"
   ]
  },
  {
   "cell_type": "code",
   "execution_count": 44,
   "metadata": {
    "collapsed": true
   },
   "outputs": [],
   "source": [
    "def field_trnsfrm(delta,tlm,lamb,sl,tau,noise_cov,good_pix,bad_pix,weights_map,pix_area,lmax,nside):\n",
    "    \"\"\"Transforms fluctuation field to pixel space and back given constrained realization,\n",
    "    cooling schedule parameters and random field delta\"\"\"\n",
    "    flm = (sl*tlm)/(sl+lamb*pix_area*tau)\n",
    "    f = hp.alm2map(flm,nside,lmax,verbose=False)\n",
    "    t = np.zeros(hp.nside2npix(nside))\n",
    "    t[bad_pix] = lamb*tau*delta[bad_pix]+f[bad_pix]\n",
    "    t[good_pix] = (lamb*tau*noise_cov[good_pix]*delta[good_pix] + \\\n",
    "                (noise_cov[good_pix] - tau)*f[good_pix])/(noise_cov[good_pix] + (lamb-1)*tau)\n",
    "    tlm = hp.map2alm(t*weights_map,lmax,iter=0) \n",
    "    return flm, tlm"
   ]
  },
  {
   "cell_type": "markdown",
   "metadata": {},
   "source": [
    "#### Testing - IT WORKS!"
   ]
  },
  {
   "cell_type": "code",
   "execution_count": 45,
   "metadata": {
    "collapsed": true
   },
   "outputs": [],
   "source": [
    "### set-up for testing\n",
    "nside = 32"
   ]
  },
  {
   "cell_type": "code",
   "execution_count": 46,
   "metadata": {
    "collapsed": true
   },
   "outputs": [],
   "source": [
    "### importing Cls\n",
    "\n",
    "#ClsAddress = HOME + \"/Dropbox/Doutorado/Research/Healpy/PlanckPR2_TT_lowp_lensing_totCls.dat\"\n",
    "ClsAddress = HOME + \"/Dropbox/Doutorado/Research/Resources for coding - Power Spectra - Maps etc/\"+\\\n",
    "\"Power Spectra/PlanckPR2_TT_lowp_lensing_lensedCls.dat\"\n",
    "l, DlTT = np.loadtxt(ClsAddress, unpack=True, usecols=(0,1)) # Full\n",
    "ClTT = ((2*np.pi)/(l*(l+1)))*(DlTT)\n",
    "l = np.append([0,1],l)\n",
    "ClTT = np.append([0,0],(ClTT))"
   ]
  },
  {
   "cell_type": "code",
   "execution_count": 47,
   "metadata": {
    "collapsed": true
   },
   "outputs": [],
   "source": [
    "# weights map\n",
    "weights_map = hp.read_map(HOME + \\\n",
    "                    '/Dropbox/Doutorado/Research/Resources for coding - Power Spectra - Maps etc/\\\n",
    "HEALPix/weight_maps/full_weights_map_08_00{}.fits'.format(nside),verbose=False)\n",
    "# for mask\n",
    "commanderaddress = HOME+\"/Dropbox/Doutorado/Research/\\\n",
    "Resources for coding - Power Spectra - Maps etc/Maps/COM_CompMap_CMB-commrul_2048_R1.00.fits\"\n",
    "# noise covariance matrix\n",
    "I_stdevaddress = HOME+\\\n",
    "'/Dropbox/Doutorado/Research/Wiener Filtering/Messenger method code/Messenger Code v4/'+\\\n",
    "'Generated signal and noise maps/I_stdev_NSIDE_2048.fits'\n",
    "\n",
    "I_stdev2048 = hp.read_map(I_stdevaddress,verbose=False)\n",
    "mask2048 = hp.read_map(commanderaddress, field = {3},verbose=False)  #I_map, noise, I_stdev, mask"
   ]
  },
  {
   "cell_type": "code",
   "execution_count": 48,
   "metadata": {
    "collapsed": true
   },
   "outputs": [],
   "source": [
    "I_stdev = hp.ud_grade(I_stdev2048,nside)\n",
    "I_stdev_mod = np.copy(I_stdev)\n",
    "#I_stdev_mod[I_stdev_mod < 10] = 10\n",
    "noise_cov = I_stdev_mod**2"
   ]
  },
  {
   "cell_type": "code",
   "execution_count": 49,
   "metadata": {
    "collapsed": true
   },
   "outputs": [],
   "source": [
    "### testing code"
   ]
  },
  {
   "cell_type": "code",
   "execution_count": 51,
   "metadata": {
    "collapsed": true
   },
   "outputs": [],
   "source": [
    "cr = ConstrainedRealizations(nside,weights_map,mask=mask2048)\n",
    "cr.set_signal_cov(ClTT)\n",
    "cr.set_noise_cov(noise_cov)"
   ]
  },
  {
   "cell_type": "code",
   "execution_count": 52,
   "metadata": {
    "collapsed": true
   },
   "outputs": [],
   "source": [
    "cr.set_cooling_schedule(1e10,1e-6)"
   ]
  }
 ],
 "metadata": {
  "anaconda-cloud": {},
  "kernelspec": {
   "display_name": "Python 3",
   "language": "python",
   "name": "python3"
  },
  "language_info": {
   "codemirror_mode": {
    "name": "ipython",
    "version": 3
   },
   "file_extension": ".py",
   "mimetype": "text/x-python",
   "name": "python",
   "nbconvert_exporter": "python",
   "pygments_lexer": "ipython3",
   "version": "3.5.3"
  }
 },
 "nbformat": 4,
 "nbformat_minor": 1
}
