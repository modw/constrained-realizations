{
 "cells": [
  {
   "cell_type": "code",
   "execution_count": 1,
   "metadata": {
    "collapsed": true
   },
   "outputs": [],
   "source": [
    "### importing packages\n",
    "%matplotlib inline\n",
    "\n",
    "import numpy as np\n",
    "import matplotlib.pyplot as plt\n",
    "import healpy as hp\n",
    "\n",
    "import os\n",
    "import time"
   ]
  },
  {
   "cell_type": "code",
   "execution_count": 2,
   "metadata": {
    "collapsed": true
   },
   "outputs": [],
   "source": [
    "### setting params\n",
    "\n",
    "# find Dropbox parent directory\n",
    "cwd = os.getcwd().split('/')\n",
    "HOME = cwd[1:cwd.index('Dropbox')]\n",
    "HOME = \"/\"+\"/\".join(HOME)\n",
    "\n",
    "# setting colormap to match Planck's\n",
    "import sys\n",
    "sys.path.append(HOME+'/Dropbox/Doutorado/Research/CODES/My-Own-Python-Tools')\n",
    "import planck_colormap\n",
    "cm = planck_colormap.colormap()"
   ]
  },
  {
   "cell_type": "code",
   "execution_count": 22,
   "metadata": {
    "collapsed": true
   },
   "outputs": [],
   "source": [
    "### stuff for testing purposes\n",
    "NSIDE = 32"
   ]
  },
  {
   "cell_type": "code",
   "execution_count": 71,
   "metadata": {
    "collapsed": true
   },
   "outputs": [],
   "source": [
    "class ConstrainedRealizations:\n",
    "    # initialize with parameters and maybe mask\n",
    "    def __init__(self,nside,lmax_factor = 1.5,mask=None):\n",
    "        \"\"\" Initialize constrained realization object with base parameters and optionally a mask.\n",
    "        Mask can be changed or added with set_mask method.\"\"\"\n",
    "        self.nside = nside\n",
    "        self.npix = hp.nside2npix(nside)\n",
    "        self.lmax = np.int0(lmax_factor*nside)\n",
    "        self.pix_area = hp.pixelfunc.nside2pixarea(nside)\n",
    "        if mask is not None:\n",
    "            self.mask = Mask(mask,nside)\n",
    "        else:\n",
    "            self.mask = Mask(np.ones(self.npix))\n",
    "            \n",
    "    def set_noise_cov(self,noise_cov):\n",
    "        \"\"\" Set noise covariance matrix and calculate quantities for messenger loop \"\"\"\n",
    "        self.check_nside(noise_cov)\n",
    "        self.noise_cov = noise_cov\n",
    "        self.tau = np.min(noise_cov[self.mask.good_pix])\n",
    "        self.t_cov = self.tau*np.ones(self.npix)\n",
    "        \n",
    "    def set_signal_cov(self,cl):\n",
    "        \"\"\" Set signal Cls and calculate Sl from Cls and lmax \"\"\"\n",
    "        self.cl = Cl[:self.lmax+1]\n",
    "        l_list, m_list = hp.sphtfunc.Alm.getlm(self.lmax)\n",
    "        self.signal_cov = cl[l_list]\n",
    "        self.signal_cov_inv = np.zeros(len(l_list))\n",
    "        self.signal_cov_inv[l_list > 1] = 1/signal_cov[l_list>1]\n",
    "        \n",
    "    def set_mask(self,mask):\n",
    "        \"\"\"Set mask by instantiating mask class - automatic degrading\"\"\"\n",
    "        self.mask = Mask(mask,self.nside)\n",
    "    \n",
    "    ### helper functions    \n",
    "    def check_nside(self,m):\n",
    "        assert hp.get_nside(m) == self.nside, \\\n",
    "        \"Wrong resolution, NSIDE should be {}.\".format(self.nside)\n",
    "        \n",
    "class Mask:\n",
    "    def __init__(self,mask,nside_out=None):\n",
    "        \"\"\"Instantiate mask, get good_pix and bad_pix and degrade with 0.9 criteria if nside_out\n",
    "        is specified.\"\"\"\n",
    "        self.mask = mask\n",
    "        if nside_out is not None:\n",
    "            self.mask = hp.ud_grade(mask,nside_out)\n",
    "            self.mask[self.mask >= 0.9] = 1\n",
    "            self.mask[self.mask < 0.9] = 0\n",
    "        self.good_pix = self.mask == 1\n",
    "        self.bad_pix = self.mask == 0\n",
    "        \n",
    "class CoolingSchedule:\n",
    "    def __init__(self,lamb_0,eta):\n",
    "        self.set_lambda_schedule(lamb_0,eta)\n",
    "    \n",
    "    def set_lambda_schedule(self,lamb_0,eta):\n",
    "        \"\"\"\n",
    "        Get whole lambda list by multiplying lamb_0 by powers of eta.\n",
    "        \"\"\"\n",
    "        self.lamb_0 = lamb_0\n",
    "        self.eta = eta\n",
    "        self.lamb_list = np.array([])\n",
    "        \n",
    "        #constructing list\n",
    "        lamb = lamb_0\n",
    "        while lamb > 1:\n",
    "            self.lamb_list = np.append(self.lamb_list,lamb)\n",
    "            lamb *= eta\n",
    "        self.lamb_list = np.append(self.lamb_list,1)\n",
    "    \n",
    "    def set_precision_schedule(self,target_precision):\n",
    "        \"\"\"\n",
    "        Function to vary target precision as lambda changes.\n",
    "        Split eps in three parts by factors of 10.\n",
    "        \"\"\"\n",
    "        self.tp = target_precision\n",
    "        self.eps_list = 10**(2) * target_precision * np.ones(len(self.lamb_list))\n",
    "        self.eps_list[len(self.lamb_list)//3:] = 10**1 * target_precision\n",
    "        self.eps_list[2*len(self.lamb_list)//3:] =  target_precision"
   ]
  },
  {
   "cell_type": "code",
   "execution_count": 72,
   "metadata": {
    "collapsed": false
   },
   "outputs": [],
   "source": [
    "cs = CoolingSchedule(1e3,1/2)"
   ]
  },
  {
   "cell_type": "code",
   "execution_count": 74,
   "metadata": {
    "collapsed": false
   },
   "outputs": [
    {
     "data": {
      "text/plain": [
       "array([ 1000.      ,   500.      ,   250.      ,   125.      ,\n",
       "          62.5     ,    31.25    ,    15.625   ,     7.8125  ,\n",
       "           3.90625 ,     1.953125,     1.      ])"
      ]
     },
     "execution_count": 74,
     "metadata": {},
     "output_type": "execute_result"
    }
   ],
   "source": [
    "cs.lamb_list"
   ]
  },
  {
   "cell_type": "code",
   "execution_count": 55,
   "metadata": {
    "collapsed": true
   },
   "outputs": [],
   "source": [
    "# inheritence \n",
    "class Main:\n",
    "    def __init__(self,a,b):\n",
    "        self.a = a\n",
    "        self.b = b\n",
    "    def set_ij(self):\n",
    "        self.i.\n",
    "class Sub(Main):\n",
    "    def do_ab_sum(self):\n",
    "        self.absum = self.a + self.b"
   ]
  },
  {
   "cell_type": "code",
   "execution_count": 60,
   "metadata": {
    "collapsed": false
   },
   "outputs": [],
   "source": [
    "m = Main(1,2)"
   ]
  },
  {
   "cell_type": "code",
   "execution_count": 61,
   "metadata": {
    "collapsed": false
   },
   "outputs": [],
   "source": [
    "s = Sub(2,3)"
   ]
  },
  {
   "cell_type": "code",
   "execution_count": 64,
   "metadata": {
    "collapsed": false
   },
   "outputs": [],
   "source": [
    "s.do_ab_sum()\n"
   ]
  },
  {
   "cell_type": "code",
   "execution_count": 65,
   "metadata": {
    "collapsed": false
   },
   "outputs": [
    {
     "data": {
      "text/plain": [
       "5"
      ]
     },
     "execution_count": 65,
     "metadata": {},
     "output_type": "execute_result"
    }
   ],
   "source": [
    "s.absum"
   ]
  },
  {
   "cell_type": "code",
   "execution_count": null,
   "metadata": {
    "collapsed": true
   },
   "outputs": [],
   "source": []
  }
 ],
 "metadata": {
  "kernelspec": {
   "display_name": "Python 3",
   "language": "python",
   "name": "python3"
  },
  "language_info": {
   "codemirror_mode": {
    "name": "ipython",
    "version": 3
   },
   "file_extension": ".py",
   "mimetype": "text/x-python",
   "name": "python",
   "nbconvert_exporter": "python",
   "pygments_lexer": "ipython3",
   "version": "3.5.3"
  }
 },
 "nbformat": 4,
 "nbformat_minor": 0
}
