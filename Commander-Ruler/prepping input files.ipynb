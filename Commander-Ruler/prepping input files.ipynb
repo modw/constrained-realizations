{
 "cells": [
  {
   "cell_type": "code",
   "execution_count": 1,
   "metadata": {
    "collapsed": true
   },
   "outputs": [],
   "source": [
    "### importing packages\n",
    "%matplotlib inline\n",
    "\n",
    "import numpy as np\n",
    "import matplotlib.pyplot as plt\n",
    "import healpy as hp\n",
    "import os"
   ]
  },
  {
   "cell_type": "code",
   "execution_count": 2,
   "metadata": {
    "collapsed": true
   },
   "outputs": [],
   "source": [
    "# find Dropbox parent directory\n",
    "cwd = os.getcwd().split('/')\n",
    "HOME = cwd[1:cwd.index('Dropbox')]\n",
    "HOME = \"/\"+\"/\".join(HOME)\n",
    "\n",
    "import planck_colormap\n",
    "cm = planck_colormap.colormap()"
   ]
  },
  {
   "cell_type": "code",
   "execution_count": 3,
   "metadata": {
    "collapsed": true
   },
   "outputs": [],
   "source": [
    "nside = 64\n",
    "lmax = 3*nside//2"
   ]
  },
  {
   "cell_type": "code",
   "execution_count": 4,
   "metadata": {
    "collapsed": true
   },
   "outputs": [],
   "source": [
    "## power spectra\n",
    "### importing Cls\n",
    "\n",
    "#ClsAddress = HOME + \"/Dropbox/Doutorado/Research/Healpy/PlanckPR2_TT_lowp_lensing_totCls.dat\"\n",
    "ClsAddress = HOME + \"/Dropbox/Doutorado/Research/\"+\\\n",
    "\"Resources for coding - Power Spectra - Maps etc/Power Spectra/PlanckPR2_TT_lowp_lensing_lensedCls.dat\"\n",
    "l, DlTT = np.loadtxt(ClsAddress, unpack=True, usecols=(0,1)) # Full\n",
    "ClTT = ((2*np.pi)/(l*(l+1)))*(DlTT)\n",
    "l = np.append([0,1],l)\n",
    "ClTT = np.append([0,0],(ClTT))"
   ]
  },
  {
   "cell_type": "code",
   "execution_count": 5,
   "metadata": {
    "collapsed": true
   },
   "outputs": [],
   "source": [
    "#np.save('input_files/cls_PlanckPR2_TT_lowp_lensing_lensed', ClTT)"
   ]
  },
  {
   "cell_type": "code",
   "execution_count": 6,
   "metadata": {
    "collapsed": true
   },
   "outputs": [],
   "source": [
    "### maps and mask"
   ]
  },
  {
   "cell_type": "code",
   "execution_count": 9,
   "metadata": {
    "collapsed": true
   },
   "outputs": [],
   "source": [
    "# for mask\n",
    "commanderaddress = HOME+\"/Dropbox/Doutorado/Research/\\\n",
    "Resources for coding - Power Spectra - Maps etc/Maps/COM_CompMap_CMB-commrul_2048_R1.00.fits\"\n",
    "tmap,stdev, mask = hp.read_map(commanderaddress, field = {0,2,3},verbose=False)"
   ]
  },
  {
   "cell_type": "code",
   "execution_count": 10,
   "metadata": {
    "collapsed": true
   },
   "outputs": [],
   "source": [
    "# stdev\n",
    "def degrade_stddev(stdev_in, msk_in, nside_out) :\n",
    "    \"\"\"Degrade the standard deviation to nside_out only averaging over\n",
    "    unmasked pixels.\"\"\"\n",
    "    npix_in = len(stdev_in)\n",
    "    npix_out = hp.nside2npix(nside_out)\n",
    "    rat = npix_in//npix_out\n",
    "    nhits = hp.reorder(msk_in,\n",
    "                           r2n=True).reshape(npix_out,rat).sum(axis=1)\n",
    "    # change to nested order, reshape for every pixel area to be averaged, sum to get number of good pixels\n",
    "    # (sum over True)\n",
    "    N = hp.reorder((stdev_in*msk_in)**2,\n",
    "                       r2n=True).reshape(npix_out,rat).sum(axis=1)\n",
    "    # change to nested order; to set every bad pixel to zero multiply by boolean mask, take the square\n",
    "    # reshape to get pixels in area to be averaged over, sum over these pixels \n",
    "    thr = 0.9*rat #criteria -> only keep pixels that are more then 90% covered\n",
    "    map_dg = hp.UNSEEN*np.ones(npix_out)\n",
    "    map_dg[nhits > thr] = N[nhits > thr]/(nhits[nhits>thr]**2) #Covariance map: (1/N^2)\\Sum sigma^2 \n",
    "    # Switch back to ring order:\n",
    "    return hp.reorder(map_dg, n2r=True) \n"
   ]
  },
  {
   "cell_type": "code",
   "execution_count": 11,
   "metadata": {
    "collapsed": true
   },
   "outputs": [],
   "source": [
    "mask_out = hp.ud_grade(mask,nside)\n",
    "mask_out[mask_out >= 0.9] = 1\n",
    "mask_out[mask_out < 0.9] = 0\n",
    "#hp.write_map('input_files/commander_mask.fits',mask)"
   ]
  },
  {
   "cell_type": "code",
   "execution_count": 15,
   "metadata": {},
   "outputs": [],
   "source": [
    "stdev_out = degrade_stddev(stdev,mask,nside)\n",
    "noise_cov = stdev_out**2\n",
    "noise_cov[mask_out == 0] = hp.UNSEEN\n",
    "#hp.write_map('input_files/commander_stdev.fits',stdev_out)\n",
    "#hp.write_map('input_files/commander_noise_cov.fits',noise_cov)"
   ]
  },
  {
   "cell_type": "code",
   "execution_count": 27,
   "metadata": {
    "collapsed": true
   },
   "outputs": [],
   "source": [
    "tmap = hp.ud_grade(tmap,nside)\n",
    "#hp.write_map('input_files/commander_t_map.fits',tmap)"
   ]
  },
  {
   "cell_type": "code",
   "execution_count": 16,
   "metadata": {
    "collapsed": true
   },
   "outputs": [],
   "source": [
    "### smoothing beam\n",
    "from astropy.io import fits"
   ]
  },
  {
   "cell_type": "code",
   "execution_count": 17,
   "metadata": {
    "collapsed": true
   },
   "outputs": [],
   "source": [
    "hdulist = fits.open(commanderaddress)"
   ]
  },
  {
   "cell_type": "code",
   "execution_count": 18,
   "metadata": {},
   "outputs": [
    {
     "name": "stdout",
     "output_type": "stream",
     "text": [
      "Filename: /media/marcio/linux-500gb/Dropbox/Doutorado/Research/Resources for coding - Power Spectra - Maps etc/Maps/COM_CompMap_CMB-commrul_2048_R1.00.fits\n",
      "No.    Name         Type      Cards   Dimensions   Format\n",
      "0    PRIMARY     PrimaryHDU       5   ()              \n",
      "1    COMP-MAP    BinTableHDU     61   50331648R x 4C   [E, E, E, B]   \n",
      "2    BeamWF      BinTableHDU     41   3501R x 1C   [E]   \n"
     ]
    }
   ],
   "source": [
    "hdulist.info()"
   ]
  },
  {
   "cell_type": "code",
   "execution_count": 23,
   "metadata": {},
   "outputs": [
    {
     "data": {
      "text/plain": [
       "XTENSION= 'BINTABLE'           /Written by IDL:  Thu Sep 12 14:56:34 2013       \n",
       "BITPIX  =                    8 /                                                \n",
       "NAXIS   =                    2 /Binary table                                    \n",
       "NAXIS1  =                    4 /Number of bytes per row                         \n",
       "NAXIS2  =                 3501 /Number of rows                                  \n",
       "PCOUNT  =                    0 /Random parameter count                          \n",
       "GCOUNT  =                    1 /Group count                                     \n",
       "TFIELDS =                    1 /Number of columns                               \n",
       "COMMENT                                                                         \n",
       "COMMENT  *** End of mandatory fields ***                                        \n",
       "COMMENT                                                                         \n",
       "EXTNAME = 'BeamWF  '           /Extension name                                  \n",
       "EXTVER  =                    1 /Extension version                               \n",
       "DATE    = '2013-09-12'         /Creation date                                   \n",
       "COMMENT                                                                         \n",
       "COMMENT  *** Column names ***                                                   \n",
       "COMMENT                                                                         \n",
       "TTYPE1  = 'BEAM_WF '           / CMB Intensity map                              \n",
       "COMMENT                                                                         \n",
       "COMMENT  *** Column formats ***                                                 \n",
       "COMMENT                                                                         \n",
       "TFORM1  = 'E       '           /                                                \n",
       "COMMENT                                                                         \n",
       "COMMENT *** Column units ***                                                    \n",
       "COMMENT                                                                         \n",
       "TUNIT1  = 'none    '           /                                                \n",
       "COMMENT                                                                         \n",
       "COMMENT *** Planck params ***                                                   \n",
       "COMMENT                                                                         \n",
       "LMIN    =                    0 /                                                \n",
       "LMAX    =                 3500 /                                                \n",
       "METHOD  = 'COMMANDER-Ruler'    / Separation method                              \n",
       "PROCVER = 'Dx9_delta'          / Product version                                \n",
       "FILENAME= 'COM_CompMap_CMB-commrul_2048_R1.00.fits' / FITS filename             \n",
       "COMMENT                                                                         \n",
       "COMMENT     Original Inputs                                                     \n",
       "COMMENT ---------------------------------------------                           \n",
       "COMMENT dx9_delta_v1_7b_avrg_cmb_beam.fits                                      \n",
       "COMMENT ---------------------------------------------                           \n",
       "DATASUM = '3503857246'         / data unit checksum created 2013-09-12T12:57:04 \n",
       "CHECKSUM= 'dfAZdd6YddAYdd5Y'   / HDU checksum created 2013-09-12T12:57:04       "
      ]
     },
     "execution_count": 23,
     "metadata": {},
     "output_type": "execute_result"
    }
   ],
   "source": [
    "hdulist[2].header"
   ]
  },
  {
   "cell_type": "code",
   "execution_count": 32,
   "metadata": {},
   "outputs": [
    {
     "data": {
      "text/plain": [
       "(2, 96)"
      ]
     },
     "execution_count": 32,
     "metadata": {},
     "output_type": "execute_result"
    },
    {
     "data": {
      "image/png": "[encoded data removed]",
      "text/plain": [
       "<matplotlib.figure.Figure at 0x7fecd293d128>"
      ]
     },
     "metadata": {},
     "output_type": "display_data"
    }
   ],
   "source": [
    "plt.plot(hdulist[2].data)\n",
    "plt.xlim(2,lmax)"
   ]
  },
  {
   "cell_type": "code",
   "execution_count": null,
   "metadata": {
    "collapsed": true
   },
   "outputs": [],
   "source": []
  }
 ],
 "metadata": {
  "anaconda-cloud": {},
  "kernelspec": {
   "display_name": "Python [Root]",
   "language": "python",
   "name": "Python [Root]"
  },
  "language_info": {
   "codemirror_mode": {
    "name": "ipython",
    "version": 3
   },
   "file_extension": ".py",
   "mimetype": "text/x-python",
   "name": "python",
   "nbconvert_exporter": "python",
   "pygments_lexer": "ipython3",
   "version": "3.5.2"
  }
 },
 "nbformat": 4,
 "nbformat_minor": 2
}
