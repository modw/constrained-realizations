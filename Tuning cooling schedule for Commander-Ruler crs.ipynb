{
 "cells": [
  {
   "cell_type": "code",
   "execution_count": 1,
   "metadata": {
    "collapsed": true
   },
   "outputs": [],
   "source": [
    "import numpy as np\n",
    "import healpy as hp\n",
    "import mm_constrained_realizations as mmcr\n",
    "import matplotlib.pyplot as plt\n",
    "\n",
    "%matplotlib inline"
   ]
  },
  {
   "cell_type": "code",
   "execution_count": 16,
   "metadata": {
    "collapsed": true
   },
   "outputs": [],
   "source": [
    "import planck_colormap\n",
    "cm = planck_colormap.colormap()\n",
    "import time"
   ]
  },
  {
   "cell_type": "code",
   "execution_count": 59,
   "metadata": {},
   "outputs": [
    {
     "name": "stdout",
     "output_type": "stream",
     "text": [
      "NSIDE = 64\n",
      "ORDERING = RING in fits file\n",
      "INDXSCHM = IMPLICIT\n",
      "NSIDE = 64\n",
      "ORDERING = RING in fits file\n",
      "INDXSCHM = IMPLICIT\n",
      "NSIDE = 64\n",
      "ORDERING = RING in fits file\n",
      "INDXSCHM = IMPLICIT\n",
      "NSIDE = 64\n",
      "ORDERING = RING in fits file\n",
      "INDXSCHM = IMPLICIT\n"
     ]
    }
   ],
   "source": [
    "### set up - params\n",
    "nside = 64\n",
    "lmax = 3*nside//2\n",
    "#fwhm = (160/60)*np.pi/180\n",
    "### importing maps\n",
    "weights_map = hp.read_map('Commander-Ruler/input_files/full_weights_map_08_0064.fits')\n",
    "cl = np.load('Commander-Ruler/input_files/cls_PlanckPR2_TT_lowp_lensing_lensed.npy')\n",
    "tmap = hp.read_map('Commander-Ruler/input_files/commander_t_map.fits')\n",
    "noise_cov = hp.read_map('Commander-Ruler/input_files/commander_noise_cov.fits')\n",
    "mask = hp.read_map('Commander-Ruler/input_files/commander_mask.fits')\n",
    "### IMPORTANT ####\n",
    "# as seen in prepping input files notebook\n",
    "# bl is 1 for every ell at this scale so we wont smooth\n",
    "# bumping nosie_cov low end\n",
    "# noise_cov += 0"
   ]
  },
  {
   "cell_type": "code",
   "execution_count": 60,
   "metadata": {
    "collapsed": true
   },
   "outputs": [],
   "source": [
    "### initializing CR\n",
    "cr = mmcr.ConstrainedRealizations(nside,weights_map,mask=mask)"
   ]
  },
  {
   "cell_type": "code",
   "execution_count": 61,
   "metadata": {
    "collapsed": true
   },
   "outputs": [],
   "source": [
    "# setting covariances\n",
    "cr.set_signal_cov(cl)\n",
    "cr.set_noise_cov(noise_cov)"
   ]
  },
  {
   "cell_type": "code",
   "execution_count": 62,
   "metadata": {
    "collapsed": true
   },
   "outputs": [],
   "source": [
    "# calculating one delta for convergence study\n",
    "delta = cr.gen_delta()"
   ]
  },
  {
   "cell_type": "code",
   "execution_count": 63,
   "metadata": {},
   "outputs": [
    {
     "name": "stdout",
     "output_type": "stream",
     "text": [
      "lamb_ 0 = 1000000.0, tp = 0.0001, dt = 2.5s\n"
     ]
    }
   ],
   "source": [
    "t0 = time.time()\n",
    "lamb_0 = 1e6\n",
    "tp = 1e-4\n",
    "cr.set_cooling_schedule(lamb_0,tp)\n",
    "flm = cr.gen_constrained_realization(delta_fix=delta)\n",
    "\n",
    "dt = np.round(time.time() - t0,decimals=1)\n",
    "print(\"lamb_ 0 = {}, tp = {}, dt = {}s\".format(lamb_0, tp, dt))"
   ]
  },
  {
   "cell_type": "code",
   "execution_count": 76,
   "metadata": {
    "collapsed": true
   },
   "outputs": [],
   "source": [
    "# cooling schedule params to vary over\n",
    "lamb_0_list = [1e10]\n",
    "tp_list = [1e-6,1e-7]"
   ]
  },
  {
   "cell_type": "code",
   "execution_count": null,
   "metadata": {
    "collapsed": true
   },
   "outputs": [],
   "source": [
    "cl_list = []\n",
    "for lamb_0 in lamb_0_list:\n",
    "    for tp in tp_list:\n",
    "        t0 = time.time()\n",
    "        cr.set_cooling_schedule(lamb_0,tp)\n",
    "        flm = cr.gen_constrained_realization(delta_fix=delta)\n",
    "        dt = np.round(time.time() - t0,decimals=1)\n",
    "        cl_cr = hp.alm2cl(flm,lmax=cr.params.lmax)\n",
    "        cl_list.append([cl_cr,\"{}; {}; {}s\".format(np.log10(lamb_0),np.log10(tp),dt)])"
   ]
  },
  {
   "cell_type": "code",
   "execution_count": null,
   "metadata": {
    "collapsed": true
   },
   "outputs": [],
   "source": [
    "for item in cl_list:\n",
    "    plt.plot(item[0],label=item[1])\n",
    "\n",
    "plt.xscale('log')\n",
    "plt.xlim(2,cr.params.lmax)\n",
    "plt.legend(loc='upper right')\n",
    "plt.show()"
   ]
  },
  {
   "cell_type": "code",
   "execution_count": null,
   "metadata": {
    "collapsed": true
   },
   "outputs": [],
   "source": [
    "for i in range(len(cl_list)-1):\n",
    "    plt.plot(np.abs(cl_list[i][0] - cl_list[-1][0])/cl_list[-1][0],label=cl_list[i][1])\n",
    "\n",
    "plt.xscale('log')\n",
    "plt.yscale('log')\n",
    "plt.xlim(2,cr.params.lmax)\n",
    "plt.legend(loc='lower left')\n",
    "plt.show()"
   ]
  },
  {
   "cell_type": "markdown",
   "metadata": {},
   "source": [
    "### Conclustions\n"
   ]
  }
 ],
 "metadata": {
  "anaconda-cloud": {},
  "kernelspec": {
   "display_name": "Python [Root]",
   "language": "python",
   "name": "Python [Root]"
  },
  "language_info": {
   "codemirror_mode": {
    "name": "ipython",
    "version": 3
   },
   "file_extension": ".py",
   "mimetype": "text/x-python",
   "name": "python",
   "nbconvert_exporter": "python",
   "pygments_lexer": "ipython3",
   "version": "3.5.2"
  }
 },
 "nbformat": 4,
 "nbformat_minor": 1
}
