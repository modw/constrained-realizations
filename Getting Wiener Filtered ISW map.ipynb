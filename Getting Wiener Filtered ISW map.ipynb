{
 "cells": [
  {
   "cell_type": "code",
   "execution_count": 7,
   "metadata": {},
   "outputs": [
    {
     "ename": "SyntaxError",
     "evalue": "invalid syntax (<ipython-input-7-b039181e03e8>, line 3)",
     "output_type": "error",
     "traceback": [
      "\u001b[1;36m  File \u001b[1;32m\"<ipython-input-7-b039181e03e8>\"\u001b[1;36m, line \u001b[1;32m3\u001b[0m\n\u001b[1;33m    import ..mm_constrained_realizations as mmcr\u001b[0m\n\u001b[1;37m           ^\u001b[0m\n\u001b[1;31mSyntaxError\u001b[0m\u001b[1;31m:\u001b[0m invalid syntax\n"
     ]
    }
   ],
   "source": [
    "import numpy as np\n",
    "import healpy as hp\n",
    "import mm_constrained_realizations as mmcr"
   ]
  },
  {
   "cell_type": "code",
   "execution_count": 2,
   "metadata": {
    "collapsed": true
   },
   "outputs": [],
   "source": [
    "import matplotlib.pyplot as plt\n",
    "import planck_colormap\n",
    "cm = planck_colormap.colormap()\n",
    "\n",
    "%matplotlib inline"
   ]
  },
  {
   "cell_type": "code",
   "execution_count": 3,
   "metadata": {
    "collapsed": true
   },
   "outputs": [],
   "source": [
    "### set up - params\n",
    "nside = 64\n",
    "lmax = 3*nside//2\n",
    "fwhm = (160/60)*np.pi/180\n",
    "### importing maps\n",
    "weights_map = hp.read_map('input_files/full_weights_map_08_0064.fits',verbose=False)\n",
    "cl = np.loadtxt('input_files/Cl_ISW_scalar_PlanckPR2ISWpaper.dat')\n",
    "isw, stdev, mask = hp.read_map('input_files/COM_CompMap_ISW_0064_R2.00.fits',\n",
    "                               hdu=1,field={0,1,2},verbose=False)\n",
    "### converting units to muK\n",
    "tcmb = 2.7255 # from Planck params paper\n",
    "isw[mask == 1] *= 2.7255*10**6\n",
    "stdev[mask==1] *= 2.7255*10**6\n",
    "# noise_cov\n",
    "noise_cov = stdev**2\n",
    "noise_cov[mask==0] = hp.UNSEEN"
   ]
  },
  {
   "cell_type": "code",
   "execution_count": 4,
   "metadata": {
    "collapsed": true
   },
   "outputs": [],
   "source": [
    "cr = mmcr.ConstrainedRealizations(nside,weights_map,mask=mask)"
   ]
  },
  {
   "cell_type": "code",
   "execution_count": 5,
   "metadata": {
    "collapsed": true
   },
   "outputs": [],
   "source": [
    "cr.set_signal_cov(cl,fwhm)\n",
    "cr.set_noise_cov(noise_cov)"
   ]
  },
  {
   "cell_type": "code",
   "execution_count": 6,
   "metadata": {
    "collapsed": true
   },
   "outputs": [],
   "source": [
    "lamb_0 = 1e10\n",
    "tp = 1e-8\n",
    "cr.set_cooling_schedule(lamb_0,tp)"
   ]
  },
  {
   "cell_type": "code",
   "execution_count": 8,
   "metadata": {},
   "outputs": [],
   "source": [
    "xlm = cr.wiener_filter_data(isw)\n",
    "x = hp.alm2map(xlm,cr.params.nside,cr.params.lmax,verbose=False)"
   ]
  },
  {
   "cell_type": "code",
   "execution_count": 10,
   "metadata": {},
   "outputs": [],
   "source": [
    "np.save('ISW_WF_PPR2_hdu1',xlm)"
   ]
  },
  {
   "cell_type": "code",
   "execution_count": null,
   "metadata": {
    "collapsed": true
   },
   "outputs": [],
   "source": []
  }
 ],
 "metadata": {
  "anaconda-cloud": {},
  "kernelspec": {
   "display_name": "Python [Root]",
   "language": "python",
   "name": "Python [Root]"
  },
  "language_info": {
   "codemirror_mode": {
    "name": "ipython",
    "version": 3
   },
   "file_extension": ".py",
   "mimetype": "text/x-python",
   "name": "python",
   "nbconvert_exporter": "python",
   "pygments_lexer": "ipython3",
   "version": "3.5.2"
  }
 },
 "nbformat": 4,
 "nbformat_minor": 2
}
